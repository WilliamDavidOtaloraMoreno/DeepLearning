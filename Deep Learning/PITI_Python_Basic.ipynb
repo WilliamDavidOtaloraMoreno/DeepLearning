{
  "nbformat": 4,
  "nbformat_minor": 0,
  "metadata": {
    "colab": {
      "name": "PITI_Python_Basic.ipynb",
      "provenance": [],
      "toc_visible": true
    },
    "kernelspec": {
      "name": "python3",
      "display_name": "Python 3"
    },
    "language_info": {
      "name": "python"
    }
  },
  "cells": [
    {
      "cell_type": "markdown",
      "source": [
        "#Description:\n",
        "\n",
        "---\n",
        "\n",
        "* @Author: William David Otálora Moreno\n",
        "* @Date:2022/02/12\n",
        "* @Description: This notebook python show basic simple exercises python"
      ],
      "metadata": {
        "id": "3zJgQKapyj3n"
      }
    },
    {
      "cell_type": "markdown",
      "source": [
        "#- Ejercicio Basicos\n",
        "\n"
      ],
      "metadata": {
        "id": "ZBEPfUX-0Bl9"
      }
    },
    {
      "cell_type": "markdown",
      "source": [
        "## Ejercicio 1: Productos + IVA"
      ],
      "metadata": {
        "id": "WuHC_FIt3vcY"
      }
    },
    {
      "cell_type": "code",
      "execution_count": null,
      "metadata": {
        "colab": {
          "base_uri": "https://localhost:8080/"
        },
        "id": "ZOcThqgMx355",
        "outputId": "23e1490a-aa82-481a-938e-410ac590249d"
      },
      "outputs": [
        {
          "output_type": "stream",
          "name": "stdout",
          "text": [
            "input 1° product: 1\n",
            "input 2° product: 2\n",
            "input 3° product: 3\n",
            "input 4° product: 4\n",
            "input 5° product: 5\n",
            "Valor bruto: 15 \n",
            "Iva:  2.85 \n",
            "TOTAL 17.85\n"
          ]
        }
      ],
      "source": [
        "prod1= int(input(\"input 1° product: \"))\n",
        "prod2= int(input(\"input 2° product: \"))\n",
        "prod3= int(input(\"input 3° product: \"))\n",
        "prod4= int(input(\"input 4° product: \"))\n",
        "prod5= int(input(\"input 5° product: \"))\n",
        "suma = (prod1+prod2+prod3+prod4+prod5)\n",
        "iva = suma*0.19\n",
        "total = suma+iva\n",
        "print(\"Valor bruto:\" ,suma, \"\\nIva: \" ,iva, \"\\nTOTAL\",total)\n"
      ]
    },
    {
      "cell_type": "markdown",
      "source": [
        "## Version Python\n"
      ],
      "metadata": {
        "id": "cCUdI3-L3zrw"
      }
    },
    {
      "cell_type": "code",
      "source": [
        "prod1,prod2,prod3,prod4,prod5 =input(\"input 1°,2°,3°,4° and 5° product with, separate: \").split(\",\")\n",
        "suma = (prod1+prod2+prod3+prod4+prod5)\n",
        "print(\"Valor bruto:\" ,suma, \"\\nIva: \" ,(suma*0.19), \"\\nTOTAL\",(suma(suma*0.19)))"
      ],
      "metadata": {
        "colab": {
          "base_uri": "https://localhost:8080/",
          "height": 217
        },
        "id": "e4mkuVND36Xh",
        "outputId": "5b7f7e21-d588-4fe7-c9ba-c4ea854836d4"
      },
      "execution_count": null,
      "outputs": [
        {
          "name": "stdout",
          "output_type": "stream",
          "text": [
            "input 1°,2°,3°,4° and 5° product with, separate: \"4\",\"4\",\"4\",\"4\",\"4\"\n"
          ]
        },
        {
          "output_type": "error",
          "ename": "TypeError",
          "evalue": "ignored",
          "traceback": [
            "\u001b[0;31m---------------------------------------------------------------------------\u001b[0m",
            "\u001b[0;31mTypeError\u001b[0m                                 Traceback (most recent call last)",
            "\u001b[0;32m<ipython-input-41-57d57ec66cd1>\u001b[0m in \u001b[0;36m<module>\u001b[0;34m()\u001b[0m\n\u001b[1;32m      1\u001b[0m \u001b[0mprod1\u001b[0m\u001b[0;34m,\u001b[0m\u001b[0mprod2\u001b[0m\u001b[0;34m,\u001b[0m\u001b[0mprod3\u001b[0m\u001b[0;34m,\u001b[0m\u001b[0mprod4\u001b[0m\u001b[0;34m,\u001b[0m\u001b[0mprod5\u001b[0m \u001b[0;34m=\u001b[0m\u001b[0minput\u001b[0m\u001b[0;34m(\u001b[0m\u001b[0;34m\"input 1°,2°,3°,4° and 5° product with, separate: \"\u001b[0m\u001b[0;34m)\u001b[0m\u001b[0;34m.\u001b[0m\u001b[0msplit\u001b[0m\u001b[0;34m(\u001b[0m\u001b[0;34m\",\"\u001b[0m\u001b[0;34m)\u001b[0m\u001b[0;34m\u001b[0m\u001b[0;34m\u001b[0m\u001b[0m\n\u001b[1;32m      2\u001b[0m \u001b[0msuma\u001b[0m \u001b[0;34m=\u001b[0m \u001b[0;34m(\u001b[0m\u001b[0mprod1\u001b[0m\u001b[0;34m+\u001b[0m\u001b[0mprod2\u001b[0m\u001b[0;34m+\u001b[0m\u001b[0mprod3\u001b[0m\u001b[0;34m+\u001b[0m\u001b[0mprod4\u001b[0m\u001b[0;34m+\u001b[0m\u001b[0mprod5\u001b[0m\u001b[0;34m)\u001b[0m\u001b[0;34m\u001b[0m\u001b[0;34m\u001b[0m\u001b[0m\n\u001b[0;32m----> 3\u001b[0;31m \u001b[0mprint\u001b[0m\u001b[0;34m(\u001b[0m\u001b[0;34m\"Valor bruto:\"\u001b[0m \u001b[0;34m,\u001b[0m\u001b[0msuma\u001b[0m\u001b[0;34m,\u001b[0m \u001b[0;34m\"\\nIva: \"\u001b[0m \u001b[0;34m,\u001b[0m\u001b[0;34m(\u001b[0m\u001b[0msuma\u001b[0m\u001b[0;34m*\u001b[0m\u001b[0;36m0.19\u001b[0m\u001b[0;34m)\u001b[0m\u001b[0;34m,\u001b[0m \u001b[0;34m\"\\nTOTAL\"\u001b[0m\u001b[0;34m,\u001b[0m\u001b[0;34m(\u001b[0m\u001b[0msuma\u001b[0m\u001b[0;34m(\u001b[0m\u001b[0msuma\u001b[0m\u001b[0;34m*\u001b[0m\u001b[0;36m0.19\u001b[0m\u001b[0;34m)\u001b[0m\u001b[0;34m)\u001b[0m\u001b[0;34m)\u001b[0m\u001b[0;34m\u001b[0m\u001b[0;34m\u001b[0m\u001b[0m\n\u001b[0m",
            "\u001b[0;31mTypeError\u001b[0m: can't multiply sequence by non-int of type 'float'"
          ]
        }
      ]
    },
    {
      "cell_type": "markdown",
      "source": [
        "## Ejercicio 2: Numeros aleatorios"
      ],
      "metadata": {
        "id": "8gEQl3nG6JAU"
      }
    },
    {
      "cell_type": "code",
      "source": [
        "num1= int(input(\"input 1° num: \"))\n",
        "num2= int(input(\"input 2° num: \"))\n",
        "num3= int(input(\"input 3° num: \"))\n",
        "prom = (num1+num2+num3) / 3\n",
        "if num1 > num2 and num1 > num3:\n",
        "  print(\"El numero mayor es: \" ,num1)\n",
        "elif  num2 > num1 and num2 > num3:\n",
        "  print(\"El numero mayor es: \" ,num2)\n",
        "else:\n",
        "  print(\"El numero mayor es: \" ,num3)\n",
        "if num1 < num2 and num1 < num3:\n",
        "  print(\"El numero menor es: \" ,num1)\n",
        "elif  num2 < num1 and num2 < num3:\n",
        "  print(\"El numero menor es: \" ,num2)\n",
        "else:\n",
        "  print(\"El numero menor es: \" ,num3)\n",
        "print (\"El promedio de los numeros es: \",prom,\"\")"
      ],
      "metadata": {
        "colab": {
          "base_uri": "https://localhost:8080/"
        },
        "id": "AEpo2emQ6PTq",
        "outputId": "597e944a-20a4-44aa-df2b-6367286257f2"
      },
      "execution_count": null,
      "outputs": [
        {
          "output_type": "stream",
          "name": "stdout",
          "text": [
            "input 1° num: 8\n",
            "input 2° num: 9\n",
            "input 3° num: 3\n",
            "El numero mayor es:  9\n",
            "El numero menor es:  3\n",
            "El promedio de los numeros es:  6.666666666666667 \n"
          ]
        }
      ]
    },
    {
      "cell_type": "code",
      "source": [
        "num1,num2,num3 =int(input(\"input 1°,2°,3° product with, separate: \").split(\",\"))\n",
        "prom = int(num1+num2+num3) / 3\n",
        "print(\"El promedio es: \" ,prom)"
      ],
      "metadata": {
        "colab": {
          "base_uri": "https://localhost:8080/",
          "height": 217
        },
        "id": "XnbcBGSA_fGn",
        "outputId": "6d8efeef-6533-4688-b375-73644023deb6"
      },
      "execution_count": null,
      "outputs": [
        {
          "name": "stdout",
          "output_type": "stream",
          "text": [
            "input 1°,2°,3° product with, separate: 8,8,8\n"
          ]
        },
        {
          "output_type": "error",
          "ename": "TypeError",
          "evalue": "ignored",
          "traceback": [
            "\u001b[0;31m---------------------------------------------------------------------------\u001b[0m",
            "\u001b[0;31mTypeError\u001b[0m                                 Traceback (most recent call last)",
            "\u001b[0;32m<ipython-input-43-4f1669a89a4f>\u001b[0m in \u001b[0;36m<module>\u001b[0;34m()\u001b[0m\n\u001b[0;32m----> 1\u001b[0;31m \u001b[0mnum1\u001b[0m\u001b[0;34m,\u001b[0m\u001b[0mnum2\u001b[0m\u001b[0;34m,\u001b[0m\u001b[0mnum3\u001b[0m \u001b[0;34m=\u001b[0m\u001b[0mint\u001b[0m\u001b[0;34m(\u001b[0m\u001b[0minput\u001b[0m\u001b[0;34m(\u001b[0m\u001b[0;34m\"input 1°,2°,3° product with, separate: \"\u001b[0m\u001b[0;34m)\u001b[0m\u001b[0;34m.\u001b[0m\u001b[0msplit\u001b[0m\u001b[0;34m(\u001b[0m\u001b[0;34m\",\"\u001b[0m\u001b[0;34m)\u001b[0m\u001b[0;34m)\u001b[0m\u001b[0;34m\u001b[0m\u001b[0;34m\u001b[0m\u001b[0m\n\u001b[0m\u001b[1;32m      2\u001b[0m \u001b[0mprom\u001b[0m \u001b[0;34m=\u001b[0m \u001b[0mint\u001b[0m\u001b[0;34m(\u001b[0m\u001b[0mnum1\u001b[0m\u001b[0;34m+\u001b[0m\u001b[0mnum2\u001b[0m\u001b[0;34m+\u001b[0m\u001b[0mnum3\u001b[0m\u001b[0;34m)\u001b[0m \u001b[0;34m/\u001b[0m \u001b[0;36m3\u001b[0m\u001b[0;34m\u001b[0m\u001b[0;34m\u001b[0m\u001b[0m\n\u001b[1;32m      3\u001b[0m \u001b[0mprint\u001b[0m\u001b[0;34m(\u001b[0m\u001b[0;34m\"El promedio es: \"\u001b[0m \u001b[0;34m,\u001b[0m\u001b[0mprom\u001b[0m\u001b[0;34m)\u001b[0m\u001b[0;34m\u001b[0m\u001b[0;34m\u001b[0m\u001b[0m\n",
            "\u001b[0;31mTypeError\u001b[0m: int() argument must be a string, a bytes-like object or a number, not 'list'"
          ]
        }
      ]
    },
    {
      "cell_type": "code",
      "source": [
        ""
      ],
      "metadata": {
        "id": "pjH3DXZuAzLq"
      },
      "execution_count": null,
      "outputs": []
    }
  ]
}