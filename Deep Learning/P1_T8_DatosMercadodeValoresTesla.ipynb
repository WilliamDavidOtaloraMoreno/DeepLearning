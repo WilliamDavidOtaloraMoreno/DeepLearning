{
  "nbformat": 4,
  "nbformat_minor": 0,
  "metadata": {
    "colab": {
      "name": "P1_T8_DatosMercadodeValoresTesla.ipynb",
      "provenance": [],
      "collapsed_sections": []
    },
    "kernelspec": {
      "name": "python3",
      "display_name": "Python 3"
    },
    "language_info": {
      "name": "python"
    }
  },
  "cells": [
    {
      "cell_type": "markdown",
      "source": [
        "#Description: \n",
        "\n",
        "\n",
        "- @Author: William David Otálora Moreno\n",
        "- @Date:2022/03/19\n",
        "- @Description: In this notebook we are going to apply the algorithm on a data set of Tesla shares on the United States stock market, where we will find:\n",
        "\n",
        "  - The CLOSE signal (daily closing price)\n",
        "  - The VOLUME signal (number of shares that have changed hands over that period of time).\n"
      ],
      "metadata": {
        "id": "VwVNb58upUxI"
      }
    },
    {
      "cell_type": "markdown",
      "source": [
        "#DATOS DE MERCADEO DE VALORES (Acciones de Tesla)"
      ],
      "metadata": {
        "id": "RmjlmVBWp3Aj"
      }
    },
    {
      "cell_type": "markdown",
      "source": [
        "#Importando librerías generales\n"
      ],
      "metadata": {
        "id": "uYEabX5uD7Gw"
      }
    },
    {
      "cell_type": "code",
      "source": [
        "import numpy as np\n",
        "import pandas as pd\n",
        "from sklearn.cluster import KMeans\n",
        "from sklearn import preprocessing  #para normalizar los datos antes de aplicar al algoritmo\n",
        "from sklearn.metrics import pairwise_distances_argmin_min\n",
        "\n",
        "import matplotlib.pyplot as plt\n",
        "import seaborn as sb\n",
        "from mpl_toolkits.mplot3d import Axes3D\n",
        "\n",
        "#configuraciones basicas para PLT\n",
        "%matplotlib inline\n",
        "plt.rcParams['figure.figsize'] = (16, 9)\n",
        "plt.style.use('ggplot')"
      ],
      "metadata": {
        "id": "ZA8pZTdGZZOj"
      },
      "execution_count": 61,
      "outputs": []
    },
    {
      "cell_type": "markdown",
      "source": [
        "#Descargando data usando Web-scrawping\n"
      ],
      "metadata": {
        "id": "SRInbPIfZhCU"
      }
    },
    {
      "cell_type": "code",
      "source": [
        "#UrlWeb=\"https://es.wikipedia.org/wiki/Departamentos_de_Colombia\"\n",
        "#ClassName=\"wikitable sortable jquery-tablesorter\"\n",
        "UrlWeb= \"https://es-us.finanzas.yahoo.com/quote/TSLA/history?p=TSLA&.tsrc=fin-srch\"\n",
        "ClassName=\"W(100%) M(0)\"  "
      ],
      "metadata": {
        "id": "btne0Qx7Zic9"
      },
      "execution_count": 67,
      "outputs": []
    },
    {
      "cell_type": "markdown",
      "source": [
        "Opt2-con Selenium\n",
        "\n",
        "\n"
      ],
      "metadata": {
        "id": "3xxq0J9vaC2K"
      }
    },
    {
      "cell_type": "code",
      "source": [
        "!pip install kora -q\n",
        "!apt install chromium-chromedriver\n",
        "!pip install selenium"
      ],
      "metadata": {
        "colab": {
          "base_uri": "https://localhost:8080/"
        },
        "id": "I130FRhxaEAa",
        "outputId": "ad9d8165-f6be-471e-c637-66c1a18330d7"
      },
      "execution_count": 76,
      "outputs": [
        {
          "output_type": "stream",
          "name": "stdout",
          "text": [
            "Reading package lists... Done\n",
            "Building dependency tree       \n",
            "Reading state information... Done\n",
            "chromium-chromedriver is already the newest version (99.0.4844.51-0ubuntu0.18.04.1).\n",
            "0 upgraded, 0 newly installed, 0 to remove and 39 not upgraded.\n",
            "Requirement already satisfied: selenium in /usr/local/lib/python3.7/dist-packages (4.1.3)\n",
            "Requirement already satisfied: trio-websocket~=0.9 in /usr/local/lib/python3.7/dist-packages (from selenium) (0.9.2)\n",
            "Requirement already satisfied: urllib3[secure,socks]~=1.26 in /usr/local/lib/python3.7/dist-packages (from selenium) (1.26.9)\n",
            "Requirement already satisfied: trio~=0.17 in /usr/local/lib/python3.7/dist-packages (from selenium) (0.20.0)\n",
            "Requirement already satisfied: attrs>=19.2.0 in /usr/local/lib/python3.7/dist-packages (from trio~=0.17->selenium) (21.4.0)\n",
            "Requirement already satisfied: idna in /usr/local/lib/python3.7/dist-packages (from trio~=0.17->selenium) (2.10)\n",
            "Requirement already satisfied: sniffio in /usr/local/lib/python3.7/dist-packages (from trio~=0.17->selenium) (1.2.0)\n",
            "Requirement already satisfied: async-generator>=1.9 in /usr/local/lib/python3.7/dist-packages (from trio~=0.17->selenium) (1.10)\n",
            "Requirement already satisfied: outcome in /usr/local/lib/python3.7/dist-packages (from trio~=0.17->selenium) (1.1.0)\n",
            "Requirement already satisfied: sortedcontainers in /usr/local/lib/python3.7/dist-packages (from trio~=0.17->selenium) (2.4.0)\n",
            "Requirement already satisfied: wsproto>=0.14 in /usr/local/lib/python3.7/dist-packages (from trio-websocket~=0.9->selenium) (1.1.0)\n",
            "Requirement already satisfied: PySocks!=1.5.7,<2.0,>=1.5.6 in /usr/local/lib/python3.7/dist-packages (from urllib3[secure,socks]~=1.26->selenium) (1.7.1)\n",
            "Requirement already satisfied: certifi in /usr/local/lib/python3.7/dist-packages (from urllib3[secure,socks]~=1.26->selenium) (2021.10.8)\n",
            "Requirement already satisfied: pyOpenSSL>=0.14 in /usr/local/lib/python3.7/dist-packages (from urllib3[secure,socks]~=1.26->selenium) (22.0.0)\n",
            "Requirement already satisfied: cryptography>=1.3.4 in /usr/local/lib/python3.7/dist-packages (from urllib3[secure,socks]~=1.26->selenium) (36.0.2)\n",
            "Requirement already satisfied: cffi>=1.12 in /usr/local/lib/python3.7/dist-packages (from cryptography>=1.3.4->urllib3[secure,socks]~=1.26->selenium) (1.15.0)\n",
            "Requirement already satisfied: pycparser in /usr/local/lib/python3.7/dist-packages (from cffi>=1.12->cryptography>=1.3.4->urllib3[secure,socks]~=1.26->selenium) (2.21)\n",
            "Requirement already satisfied: h11<1,>=0.9.0 in /usr/local/lib/python3.7/dist-packages (from wsproto>=0.14->trio-websocket~=0.9->selenium) (0.13.0)\n",
            "Requirement already satisfied: typing-extensions in /usr/local/lib/python3.7/dist-packages (from h11<1,>=0.9.0->wsproto>=0.14->trio-websocket~=0.9->selenium) (3.10.0.2)\n"
          ]
        }
      ]
    },
    {
      "cell_type": "code",
      "source": [
        "from kora.selenium import wd\n",
        "wd.get(UrlWeb)\n",
        "soup = BeautifulSoup(wd.page_source, 'html.parser') "
      ],
      "metadata": {
        "id": "OWG45ivuaHpQ"
      },
      "execution_count": 77,
      "outputs": []
    },
    {
      "cell_type": "code",
      "source": [
        "tabla= soup.find_all(class_=ClassName)\n",
        "df_list_table=pd.read_html(str(tabla))                                      # LEEMOS el THEAD y TBODY y lo guardamos en una lista\n",
        "df=pd.DataFrame(df_list_table[0])    "
      ],
      "metadata": {
        "id": "wl6FxKrGm0Io"
      },
      "execution_count": 78,
      "outputs": []
    },
    {
      "cell_type": "code",
      "source": [
        "#df.head(10)                                                       #LAS PRIMERAS FILAS\n",
        "df.tail(10) "
      ],
      "metadata": {
        "colab": {
          "base_uri": "https://localhost:8080/",
          "height": 424
        },
        "id": "y9FuhXH5m2ag",
        "outputId": "6fde205d-d73c-4fcf-8f02-8ce991a85d1f"
      },
      "execution_count": 79,
      "outputs": [
        {
          "output_type": "execute_result",
          "data": {
            "text/plain": [
              "                                                 Fecha  \\\n",
              "91                                         08 nov 2021   \n",
              "92                                         05 nov 2021   \n",
              "93                                         04 nov 2021   \n",
              "94                                         03 nov 2021   \n",
              "95                                         02 nov 2021   \n",
              "96                                         01 nov 2021   \n",
              "97                                         29 oct 2021   \n",
              "98                                         28 oct 2021   \n",
              "99                                         27 oct 2021   \n",
              "100  *Precio de cierre ajustado para división de ac...   \n",
              "\n",
              "                                                 Abrir  \\\n",
              "91                                             1149.79   \n",
              "92                                             1228.00   \n",
              "93                                             1234.41   \n",
              "94                                             1177.33   \n",
              "95                                             1159.36   \n",
              "96                                             1145.00   \n",
              "97                                             1081.86   \n",
              "98                                             1068.31   \n",
              "99                                             1039.66   \n",
              "100  *Precio de cierre ajustado para división de ac...   \n",
              "\n",
              "                                                  Alto  \\\n",
              "91                                             1197.00   \n",
              "92                                             1239.87   \n",
              "93                                             1243.49   \n",
              "94                                             1215.39   \n",
              "95                                             1208.59   \n",
              "96                                             1209.75   \n",
              "97                                             1115.21   \n",
              "98                                             1081.00   \n",
              "99                                             1070.88   \n",
              "100  *Precio de cierre ajustado para división de ac...   \n",
              "\n",
              "                                                  Bajo  \\\n",
              "91                                             1133.00   \n",
              "92                                             1208.00   \n",
              "93                                             1217.00   \n",
              "94                                             1152.62   \n",
              "95                                             1146.00   \n",
              "96                                             1118.66   \n",
              "97                                             1073.21   \n",
              "98                                             1054.20   \n",
              "99                                             1030.78   \n",
              "100  *Precio de cierre ajustado para división de ac...   \n",
              "\n",
              "                                               Cierre*  \\\n",
              "91                                             1162.94   \n",
              "92                                             1222.09   \n",
              "93                                             1229.91   \n",
              "94                                             1213.86   \n",
              "95                                             1172.00   \n",
              "96                                             1208.59   \n",
              "97                                             1114.00   \n",
              "98                                             1077.04   \n",
              "99                                             1037.86   \n",
              "100  *Precio de cierre ajustado para división de ac...   \n",
              "\n",
              "                                     Cierre ajustado**  \\\n",
              "91                                             1162.94   \n",
              "92                                             1222.09   \n",
              "93                                             1229.91   \n",
              "94                                             1213.86   \n",
              "95                                             1172.00   \n",
              "96                                             1208.59   \n",
              "97                                             1114.00   \n",
              "98                                             1077.04   \n",
              "99                                             1037.86   \n",
              "100  *Precio de cierre ajustado para división de ac...   \n",
              "\n",
              "                                               Volumen  \n",
              "91                                            33445700  \n",
              "92                                            21579900  \n",
              "93                                            25397400  \n",
              "94                                            34628500  \n",
              "95                                            42737800  \n",
              "96                                            56048700  \n",
              "97                                            29918400  \n",
              "98                                            27213200  \n",
              "99                                            38526500  \n",
              "100  *Precio de cierre ajustado para división de ac...  "
            ],
            "text/html": [
              "\n",
              "  <div id=\"df-c123a911-0ac5-4c1c-8d36-47e393716649\">\n",
              "    <div class=\"colab-df-container\">\n",
              "      <div>\n",
              "<style scoped>\n",
              "    .dataframe tbody tr th:only-of-type {\n",
              "        vertical-align: middle;\n",
              "    }\n",
              "\n",
              "    .dataframe tbody tr th {\n",
              "        vertical-align: top;\n",
              "    }\n",
              "\n",
              "    .dataframe thead th {\n",
              "        text-align: right;\n",
              "    }\n",
              "</style>\n",
              "<table border=\"1\" class=\"dataframe\">\n",
              "  <thead>\n",
              "    <tr style=\"text-align: right;\">\n",
              "      <th></th>\n",
              "      <th>Fecha</th>\n",
              "      <th>Abrir</th>\n",
              "      <th>Alto</th>\n",
              "      <th>Bajo</th>\n",
              "      <th>Cierre*</th>\n",
              "      <th>Cierre ajustado**</th>\n",
              "      <th>Volumen</th>\n",
              "    </tr>\n",
              "  </thead>\n",
              "  <tbody>\n",
              "    <tr>\n",
              "      <th>91</th>\n",
              "      <td>08 nov 2021</td>\n",
              "      <td>1149.79</td>\n",
              "      <td>1197.00</td>\n",
              "      <td>1133.00</td>\n",
              "      <td>1162.94</td>\n",
              "      <td>1162.94</td>\n",
              "      <td>33445700</td>\n",
              "    </tr>\n",
              "    <tr>\n",
              "      <th>92</th>\n",
              "      <td>05 nov 2021</td>\n",
              "      <td>1228.00</td>\n",
              "      <td>1239.87</td>\n",
              "      <td>1208.00</td>\n",
              "      <td>1222.09</td>\n",
              "      <td>1222.09</td>\n",
              "      <td>21579900</td>\n",
              "    </tr>\n",
              "    <tr>\n",
              "      <th>93</th>\n",
              "      <td>04 nov 2021</td>\n",
              "      <td>1234.41</td>\n",
              "      <td>1243.49</td>\n",
              "      <td>1217.00</td>\n",
              "      <td>1229.91</td>\n",
              "      <td>1229.91</td>\n",
              "      <td>25397400</td>\n",
              "    </tr>\n",
              "    <tr>\n",
              "      <th>94</th>\n",
              "      <td>03 nov 2021</td>\n",
              "      <td>1177.33</td>\n",
              "      <td>1215.39</td>\n",
              "      <td>1152.62</td>\n",
              "      <td>1213.86</td>\n",
              "      <td>1213.86</td>\n",
              "      <td>34628500</td>\n",
              "    </tr>\n",
              "    <tr>\n",
              "      <th>95</th>\n",
              "      <td>02 nov 2021</td>\n",
              "      <td>1159.36</td>\n",
              "      <td>1208.59</td>\n",
              "      <td>1146.00</td>\n",
              "      <td>1172.00</td>\n",
              "      <td>1172.00</td>\n",
              "      <td>42737800</td>\n",
              "    </tr>\n",
              "    <tr>\n",
              "      <th>96</th>\n",
              "      <td>01 nov 2021</td>\n",
              "      <td>1145.00</td>\n",
              "      <td>1209.75</td>\n",
              "      <td>1118.66</td>\n",
              "      <td>1208.59</td>\n",
              "      <td>1208.59</td>\n",
              "      <td>56048700</td>\n",
              "    </tr>\n",
              "    <tr>\n",
              "      <th>97</th>\n",
              "      <td>29 oct 2021</td>\n",
              "      <td>1081.86</td>\n",
              "      <td>1115.21</td>\n",
              "      <td>1073.21</td>\n",
              "      <td>1114.00</td>\n",
              "      <td>1114.00</td>\n",
              "      <td>29918400</td>\n",
              "    </tr>\n",
              "    <tr>\n",
              "      <th>98</th>\n",
              "      <td>28 oct 2021</td>\n",
              "      <td>1068.31</td>\n",
              "      <td>1081.00</td>\n",
              "      <td>1054.20</td>\n",
              "      <td>1077.04</td>\n",
              "      <td>1077.04</td>\n",
              "      <td>27213200</td>\n",
              "    </tr>\n",
              "    <tr>\n",
              "      <th>99</th>\n",
              "      <td>27 oct 2021</td>\n",
              "      <td>1039.66</td>\n",
              "      <td>1070.88</td>\n",
              "      <td>1030.78</td>\n",
              "      <td>1037.86</td>\n",
              "      <td>1037.86</td>\n",
              "      <td>38526500</td>\n",
              "    </tr>\n",
              "    <tr>\n",
              "      <th>100</th>\n",
              "      <td>*Precio de cierre ajustado para división de ac...</td>\n",
              "      <td>*Precio de cierre ajustado para división de ac...</td>\n",
              "      <td>*Precio de cierre ajustado para división de ac...</td>\n",
              "      <td>*Precio de cierre ajustado para división de ac...</td>\n",
              "      <td>*Precio de cierre ajustado para división de ac...</td>\n",
              "      <td>*Precio de cierre ajustado para división de ac...</td>\n",
              "      <td>*Precio de cierre ajustado para división de ac...</td>\n",
              "    </tr>\n",
              "  </tbody>\n",
              "</table>\n",
              "</div>\n",
              "      <button class=\"colab-df-convert\" onclick=\"convertToInteractive('df-c123a911-0ac5-4c1c-8d36-47e393716649')\"\n",
              "              title=\"Convert this dataframe to an interactive table.\"\n",
              "              style=\"display:none;\">\n",
              "        \n",
              "  <svg xmlns=\"http://www.w3.org/2000/svg\" height=\"24px\"viewBox=\"0 0 24 24\"\n",
              "       width=\"24px\">\n",
              "    <path d=\"M0 0h24v24H0V0z\" fill=\"none\"/>\n",
              "    <path d=\"M18.56 5.44l.94 2.06.94-2.06 2.06-.94-2.06-.94-.94-2.06-.94 2.06-2.06.94zm-11 1L8.5 8.5l.94-2.06 2.06-.94-2.06-.94L8.5 2.5l-.94 2.06-2.06.94zm10 10l.94 2.06.94-2.06 2.06-.94-2.06-.94-.94-2.06-.94 2.06-2.06.94z\"/><path d=\"M17.41 7.96l-1.37-1.37c-.4-.4-.92-.59-1.43-.59-.52 0-1.04.2-1.43.59L10.3 9.45l-7.72 7.72c-.78.78-.78 2.05 0 2.83L4 21.41c.39.39.9.59 1.41.59.51 0 1.02-.2 1.41-.59l7.78-7.78 2.81-2.81c.8-.78.8-2.07 0-2.86zM5.41 20L4 18.59l7.72-7.72 1.47 1.35L5.41 20z\"/>\n",
              "  </svg>\n",
              "      </button>\n",
              "      \n",
              "  <style>\n",
              "    .colab-df-container {\n",
              "      display:flex;\n",
              "      flex-wrap:wrap;\n",
              "      gap: 12px;\n",
              "    }\n",
              "\n",
              "    .colab-df-convert {\n",
              "      background-color: #E8F0FE;\n",
              "      border: none;\n",
              "      border-radius: 50%;\n",
              "      cursor: pointer;\n",
              "      display: none;\n",
              "      fill: #1967D2;\n",
              "      height: 32px;\n",
              "      padding: 0 0 0 0;\n",
              "      width: 32px;\n",
              "    }\n",
              "\n",
              "    .colab-df-convert:hover {\n",
              "      background-color: #E2EBFA;\n",
              "      box-shadow: 0px 1px 2px rgba(60, 64, 67, 0.3), 0px 1px 3px 1px rgba(60, 64, 67, 0.15);\n",
              "      fill: #174EA6;\n",
              "    }\n",
              "\n",
              "    [theme=dark] .colab-df-convert {\n",
              "      background-color: #3B4455;\n",
              "      fill: #D2E3FC;\n",
              "    }\n",
              "\n",
              "    [theme=dark] .colab-df-convert:hover {\n",
              "      background-color: #434B5C;\n",
              "      box-shadow: 0px 1px 3px 1px rgba(0, 0, 0, 0.15);\n",
              "      filter: drop-shadow(0px 1px 2px rgba(0, 0, 0, 0.3));\n",
              "      fill: #FFFFFF;\n",
              "    }\n",
              "  </style>\n",
              "\n",
              "      <script>\n",
              "        const buttonEl =\n",
              "          document.querySelector('#df-c123a911-0ac5-4c1c-8d36-47e393716649 button.colab-df-convert');\n",
              "        buttonEl.style.display =\n",
              "          google.colab.kernel.accessAllowed ? 'block' : 'none';\n",
              "\n",
              "        async function convertToInteractive(key) {\n",
              "          const element = document.querySelector('#df-c123a911-0ac5-4c1c-8d36-47e393716649');\n",
              "          const dataTable =\n",
              "            await google.colab.kernel.invokeFunction('convertToInteractive',\n",
              "                                                     [key], {});\n",
              "          if (!dataTable) return;\n",
              "\n",
              "          const docLinkHtml = 'Like what you see? Visit the ' +\n",
              "            '<a target=\"_blank\" href=https://colab.research.google.com/notebooks/data_table.ipynb>data table notebook</a>'\n",
              "            + ' to learn more about interactive tables.';\n",
              "          element.innerHTML = '';\n",
              "          dataTable['output_type'] = 'display_data';\n",
              "          await google.colab.output.renderOutput(dataTable, element);\n",
              "          const docLink = document.createElement('div');\n",
              "          docLink.innerHTML = docLinkHtml;\n",
              "          element.appendChild(docLink);\n",
              "        }\n",
              "      </script>\n",
              "    </div>\n",
              "  </div>\n",
              "  "
            ]
          },
          "metadata": {},
          "execution_count": 79
        }
      ]
    },
    {
      "cell_type": "code",
      "source": [
        "#tenemosque borrar la ultima fila\n",
        "df = df[:-1]"
      ],
      "metadata": {
        "id": "y-lXtUSEm6U2"
      },
      "execution_count": 80,
      "outputs": []
    },
    {
      "cell_type": "markdown",
      "source": [
        "#Conociendo los datos descargados"
      ],
      "metadata": {
        "id": "fgg9fKlBm8rK"
      }
    },
    {
      "cell_type": "code",
      "source": [
        "print(df.info())\n",
        "print(\"____________describe____________\\n\",df.describe())\n",
        "print(\"____________nulos?____________\\n\",df.isnull().sum())\n",
        "#print(\"Rows, Cols->\",df.shape)"
      ],
      "metadata": {
        "colab": {
          "base_uri": "https://localhost:8080/"
        },
        "id": "O231go2um-TC",
        "outputId": "7830af85-213b-4840-9852-ec6d9d5d7af5"
      },
      "execution_count": 81,
      "outputs": [
        {
          "output_type": "stream",
          "name": "stdout",
          "text": [
            "<class 'pandas.core.frame.DataFrame'>\n",
            "RangeIndex: 100 entries, 0 to 99\n",
            "Data columns (total 7 columns):\n",
            " #   Column             Non-Null Count  Dtype \n",
            "---  ------             --------------  ----- \n",
            " 0   Fecha              100 non-null    object\n",
            " 1   Abrir              100 non-null    object\n",
            " 2   Alto               100 non-null    object\n",
            " 3   Bajo               100 non-null    object\n",
            " 4   Cierre*            100 non-null    object\n",
            " 5   Cierre ajustado**  100 non-null    object\n",
            " 6   Volumen            100 non-null    object\n",
            "dtypes: object(7)\n",
            "memory usage: 5.6+ KB\n",
            "None\n",
            "____________describe____________\n",
            "               Fecha   Abrir    Alto    Bajo Cierre* Cierre ajustado**  \\\n",
            "count           100     100     100     100     100               100   \n",
            "unique           99      99      99     100      99                99   \n",
            "top     18 mar 2022  874.49  907.85  867.40  905.39            905.39   \n",
            "freq              2       2       2       1       2                 2   \n",
            "\n",
            "         Volumen  \n",
            "count        100  \n",
            "unique       100  \n",
            "top     33507638  \n",
            "freq           1  \n",
            "____________nulos?____________\n",
            " Fecha                0\n",
            "Abrir                0\n",
            "Alto                 0\n",
            "Bajo                 0\n",
            "Cierre*              0\n",
            "Cierre ajustado**    0\n",
            "Volumen              0\n",
            "dtype: int64\n"
          ]
        }
      ]
    },
    {
      "cell_type": "markdown",
      "source": [
        "#Normalización de los datos.\n",
        "\n",
        "#Convertimos los campos object a datetime o numeric (int/float)"
      ],
      "metadata": {
        "id": "JzINljmhnCTl"
      }
    },
    {
      "cell_type": "code",
      "source": [
        "df['Fecha']= df['Fecha'].str.replace(' ene ','/01/')\n",
        "df['Fecha']= df['Fecha'].str.replace(' feb ','/02/')\n",
        "df['Fecha']= df['Fecha'].str.replace(' mar ','/03/')\n",
        "df['Fecha']= df['Fecha'].str.replace(' abr ','/04/')\n",
        "df['Fecha']= df['Fecha'].str.replace(' may ','/05/')\n",
        "df['Fecha']= df['Fecha'].str.replace(' jun ','/06/')\n",
        "df['Fecha']= df['Fecha'].str.replace(' jul ','/07/')\n",
        "df['Fecha']= df['Fecha'].str.replace(' ago ','/08/')\n",
        "df['Fecha']= df['Fecha'].str.replace(' sep ','/09/')\n",
        "df['Fecha']= df['Fecha'].str.replace(' oct ','/10/')\n",
        "df['Fecha']= df['Fecha'].str.replace(' nov ','/11/')\n",
        "df['Fecha']= df['Fecha'].str.replace(' dic ','/12/')"
      ],
      "metadata": {
        "id": "q4qxyZMYnGlG"
      },
      "execution_count": 82,
      "outputs": []
    },
    {
      "cell_type": "code",
      "source": [
        "df['Fecha']=pd.to_datetime(df['Fecha'], dayfirst = True)        # Convertimos el campo FECHA en tipo DATETIME\n",
        "df['Abrir'] = pd.to_numeric(df['Abrir'])                        #  convertimos el campo a numerico \n",
        "df['Alto'] = pd.to_numeric(df['Alto'])\n",
        "df['Bajo'] = pd.to_numeric(df['Bajo'])\n",
        "df['Cierre*'] = pd.to_numeric(df['Cierre*'])\n",
        "df['Cierre ajustado**'] = pd.to_numeric(df['Cierre ajustado**'])\n",
        "df['Volumen'] = pd.to_numeric(df['Volumen'])"
      ],
      "metadata": {
        "id": "qjz0ryU3nNc_"
      },
      "execution_count": 83,
      "outputs": []
    },
    {
      "cell_type": "markdown",
      "source": [
        "#Eliminando columnas que no necesitaremos "
      ],
      "metadata": {
        "id": "neluN5fyn7k3"
      }
    },
    {
      "cell_type": "code",
      "source": [
        "#borrar nulos o no?\n",
        "df = df.dropna()\n",
        "df = df.reset_index(drop=True)"
      ],
      "metadata": {
        "id": "wwVXEgwbn80h"
      },
      "execution_count": 87,
      "outputs": []
    },
    {
      "cell_type": "code",
      "source": [
        "# Eliminamos columna de fecha que no usaremos en el algoritmo.\n",
        "dates = df['Fecha'] # Guardamos la columna Date.\n",
        "df = df.drop('Fecha', 1) # Borramos la columna del dataframe."
      ],
      "metadata": {
        "colab": {
          "base_uri": "https://localhost:8080/"
        },
        "id": "E3-6XbWJoAds",
        "outputId": "6f791e15-c26d-4004-8d6f-9adc0e2771ed"
      },
      "execution_count": 88,
      "outputs": [
        {
          "output_type": "stream",
          "name": "stderr",
          "text": [
            "/usr/local/lib/python3.7/dist-packages/ipykernel_launcher.py:3: FutureWarning: In a future version of pandas all arguments of DataFrame.drop except for the argument 'labels' will be keyword-only\n",
            "  This is separate from the ipykernel package so we can avoid doing imports until\n"
          ]
        }
      ]
    },
    {
      "cell_type": "markdown",
      "source": [
        "Normaliza todos los datos entre [0, 1]."
      ],
      "metadata": {
        "id": "C0YIxiJNoF7t"
      }
    },
    {
      "cell_type": "code",
      "source": [
        "#%% Se normalizan los datos con MinMax()\n",
        "min_max_scaler = preprocessing.MinMaxScaler() \n",
        "df_escalado = min_max_scaler.fit_transform(df)\n",
        "df_escalado = pd.DataFrame(df_escalado) # Hay que convertir a DF el resultado.\n",
        "df_escalado = df_escalado.rename(columns = {0:'Abrir',1:'Alto',2:'Bajo',3:'Cierre*',4: 'Cierre ajustado**', 5: 'Volumen'})"
      ],
      "metadata": {
        "id": "FYgcK21OoKNx"
      },
      "execution_count": 89,
      "outputs": []
    },
    {
      "cell_type": "code",
      "source": [
        "df_escalado.head()\n",
        "#df_escalado.isnull().sum()"
      ],
      "metadata": {
        "colab": {
          "base_uri": "https://localhost:8080/",
          "height": 206
        },
        "id": "Bwr6HztmoPXq",
        "outputId": "422c5977-670c-4cc3-cf6a-f8f7d2703b53"
      },
      "execution_count": 90,
      "outputs": [
        {
          "output_type": "execute_result",
          "data": {
            "text/plain": [
              "      Abrir      Alto      Bajo   Cierre*  Cierre ajustado**   Volumen\n",
              "0  0.326018  0.241988  0.323791  0.303411           0.303411  0.460238\n",
              "1  0.326018  0.241988  0.323772  0.303411           0.303411  0.458148\n",
              "2  0.244560  0.167800  0.243172  0.230880           0.230880  0.221685\n",
              "3  0.203382  0.093272  0.197795  0.163543           0.163543  0.344306\n",
              "4  0.140219  0.010998  0.109420  0.081246           0.081246  0.223501"
            ],
            "text/html": [
              "\n",
              "  <div id=\"df-efc066d7-8cab-4ff3-a807-ff74bf382f83\">\n",
              "    <div class=\"colab-df-container\">\n",
              "      <div>\n",
              "<style scoped>\n",
              "    .dataframe tbody tr th:only-of-type {\n",
              "        vertical-align: middle;\n",
              "    }\n",
              "\n",
              "    .dataframe tbody tr th {\n",
              "        vertical-align: top;\n",
              "    }\n",
              "\n",
              "    .dataframe thead th {\n",
              "        text-align: right;\n",
              "    }\n",
              "</style>\n",
              "<table border=\"1\" class=\"dataframe\">\n",
              "  <thead>\n",
              "    <tr style=\"text-align: right;\">\n",
              "      <th></th>\n",
              "      <th>Abrir</th>\n",
              "      <th>Alto</th>\n",
              "      <th>Bajo</th>\n",
              "      <th>Cierre*</th>\n",
              "      <th>Cierre ajustado**</th>\n",
              "      <th>Volumen</th>\n",
              "    </tr>\n",
              "  </thead>\n",
              "  <tbody>\n",
              "    <tr>\n",
              "      <th>0</th>\n",
              "      <td>0.326018</td>\n",
              "      <td>0.241988</td>\n",
              "      <td>0.323791</td>\n",
              "      <td>0.303411</td>\n",
              "      <td>0.303411</td>\n",
              "      <td>0.460238</td>\n",
              "    </tr>\n",
              "    <tr>\n",
              "      <th>1</th>\n",
              "      <td>0.326018</td>\n",
              "      <td>0.241988</td>\n",
              "      <td>0.323772</td>\n",
              "      <td>0.303411</td>\n",
              "      <td>0.303411</td>\n",
              "      <td>0.458148</td>\n",
              "    </tr>\n",
              "    <tr>\n",
              "      <th>2</th>\n",
              "      <td>0.244560</td>\n",
              "      <td>0.167800</td>\n",
              "      <td>0.243172</td>\n",
              "      <td>0.230880</td>\n",
              "      <td>0.230880</td>\n",
              "      <td>0.221685</td>\n",
              "    </tr>\n",
              "    <tr>\n",
              "      <th>3</th>\n",
              "      <td>0.203382</td>\n",
              "      <td>0.093272</td>\n",
              "      <td>0.197795</td>\n",
              "      <td>0.163543</td>\n",
              "      <td>0.163543</td>\n",
              "      <td>0.344306</td>\n",
              "    </tr>\n",
              "    <tr>\n",
              "      <th>4</th>\n",
              "      <td>0.140219</td>\n",
              "      <td>0.010998</td>\n",
              "      <td>0.109420</td>\n",
              "      <td>0.081246</td>\n",
              "      <td>0.081246</td>\n",
              "      <td>0.223501</td>\n",
              "    </tr>\n",
              "  </tbody>\n",
              "</table>\n",
              "</div>\n",
              "      <button class=\"colab-df-convert\" onclick=\"convertToInteractive('df-efc066d7-8cab-4ff3-a807-ff74bf382f83')\"\n",
              "              title=\"Convert this dataframe to an interactive table.\"\n",
              "              style=\"display:none;\">\n",
              "        \n",
              "  <svg xmlns=\"http://www.w3.org/2000/svg\" height=\"24px\"viewBox=\"0 0 24 24\"\n",
              "       width=\"24px\">\n",
              "    <path d=\"M0 0h24v24H0V0z\" fill=\"none\"/>\n",
              "    <path d=\"M18.56 5.44l.94 2.06.94-2.06 2.06-.94-2.06-.94-.94-2.06-.94 2.06-2.06.94zm-11 1L8.5 8.5l.94-2.06 2.06-.94-2.06-.94L8.5 2.5l-.94 2.06-2.06.94zm10 10l.94 2.06.94-2.06 2.06-.94-2.06-.94-.94-2.06-.94 2.06-2.06.94z\"/><path d=\"M17.41 7.96l-1.37-1.37c-.4-.4-.92-.59-1.43-.59-.52 0-1.04.2-1.43.59L10.3 9.45l-7.72 7.72c-.78.78-.78 2.05 0 2.83L4 21.41c.39.39.9.59 1.41.59.51 0 1.02-.2 1.41-.59l7.78-7.78 2.81-2.81c.8-.78.8-2.07 0-2.86zM5.41 20L4 18.59l7.72-7.72 1.47 1.35L5.41 20z\"/>\n",
              "  </svg>\n",
              "      </button>\n",
              "      \n",
              "  <style>\n",
              "    .colab-df-container {\n",
              "      display:flex;\n",
              "      flex-wrap:wrap;\n",
              "      gap: 12px;\n",
              "    }\n",
              "\n",
              "    .colab-df-convert {\n",
              "      background-color: #E8F0FE;\n",
              "      border: none;\n",
              "      border-radius: 50%;\n",
              "      cursor: pointer;\n",
              "      display: none;\n",
              "      fill: #1967D2;\n",
              "      height: 32px;\n",
              "      padding: 0 0 0 0;\n",
              "      width: 32px;\n",
              "    }\n",
              "\n",
              "    .colab-df-convert:hover {\n",
              "      background-color: #E2EBFA;\n",
              "      box-shadow: 0px 1px 2px rgba(60, 64, 67, 0.3), 0px 1px 3px 1px rgba(60, 64, 67, 0.15);\n",
              "      fill: #174EA6;\n",
              "    }\n",
              "\n",
              "    [theme=dark] .colab-df-convert {\n",
              "      background-color: #3B4455;\n",
              "      fill: #D2E3FC;\n",
              "    }\n",
              "\n",
              "    [theme=dark] .colab-df-convert:hover {\n",
              "      background-color: #434B5C;\n",
              "      box-shadow: 0px 1px 3px 1px rgba(0, 0, 0, 0.15);\n",
              "      filter: drop-shadow(0px 1px 2px rgba(0, 0, 0, 0.3));\n",
              "      fill: #FFFFFF;\n",
              "    }\n",
              "  </style>\n",
              "\n",
              "      <script>\n",
              "        const buttonEl =\n",
              "          document.querySelector('#df-efc066d7-8cab-4ff3-a807-ff74bf382f83 button.colab-df-convert');\n",
              "        buttonEl.style.display =\n",
              "          google.colab.kernel.accessAllowed ? 'block' : 'none';\n",
              "\n",
              "        async function convertToInteractive(key) {\n",
              "          const element = document.querySelector('#df-efc066d7-8cab-4ff3-a807-ff74bf382f83');\n",
              "          const dataTable =\n",
              "            await google.colab.kernel.invokeFunction('convertToInteractive',\n",
              "                                                     [key], {});\n",
              "          if (!dataTable) return;\n",
              "\n",
              "          const docLinkHtml = 'Like what you see? Visit the ' +\n",
              "            '<a target=\"_blank\" href=https://colab.research.google.com/notebooks/data_table.ipynb>data table notebook</a>'\n",
              "            + ' to learn more about interactive tables.';\n",
              "          element.innerHTML = '';\n",
              "          dataTable['output_type'] = 'display_data';\n",
              "          await google.colab.output.renderOutput(dataTable, element);\n",
              "          const docLink = document.createElement('div');\n",
              "          docLink.innerHTML = docLinkHtml;\n",
              "          element.appendChild(docLink);\n",
              "        }\n",
              "      </script>\n",
              "    </div>\n",
              "  </div>\n",
              "  "
            ]
          },
          "metadata": {},
          "execution_count": 90
        }
      ]
    },
    {
      "cell_type": "markdown",
      "source": [
        "#Representación gráfica de los datos."
      ],
      "metadata": {
        "id": "_eVZ7u2GoWTf"
      }
    },
    {
      "cell_type": "code",
      "source": [
        "#%% Representación gráfica de los datos.\n",
        "x = df_escalado['Cierre*'].values\n",
        "y = df_escalado['Volumen'].values\n",
        "plt.xlabel('Cierre de precios')\n",
        "plt.ylabel('Volumen')\n",
        "plt.title('Tesla CIERRE vs. VOLUMEN')\n",
        "plt.plot(x,y,'o',markersize=3)"
      ],
      "metadata": {
        "colab": {
          "base_uri": "https://localhost:8080/",
          "height": 589
        },
        "id": "MKceKPj-oZfv",
        "outputId": "cd7a4298-ed9f-4d1b-9668-ebd1cb0aa9d6"
      },
      "execution_count": 92,
      "outputs": [
        {
          "output_type": "execute_result",
          "data": {
            "text/plain": [
              "[<matplotlib.lines.Line2D at 0x7f0bfe381590>]"
            ]
          },
          "metadata": {},
          "execution_count": 92
        },
        {
          "output_type": "display_data",
          "data": {
            "text/plain": [
              "<Figure size 1152x648 with 1 Axes>"
            ],
            "image/png": "[encoded data removed]"
          },
          "metadata": {}
        }
      ]
    },
    {
      "cell_type": "markdown",
      "source": [
        "#Aplicación de k-means."
      ],
      "metadata": {
        "id": "aj0rfHRDojMd"
      }
    },
    {
      "cell_type": "markdown",
      "source": [
        "#Realizar una gráfica elbow o de codo"
      ],
      "metadata": {
        "id": "jPJS37v1oqXo"
      }
    },
    {
      "cell_type": "code",
      "source": [
        "#%% Curva elbow para determinar valor óptimo de k.\n",
        "nc = range(1, 30) # El número de iteraciones que queremos hacer.\n",
        "kmeans = [KMeans(n_clusters=i) for i in nc]\n",
        "score = [kmeans[i].fit(df_escalado).score(df_escalado) for i in range(len(kmeans))]\n",
        "score\n",
        "plt.xlabel('Número de clústeres (k)')\n",
        "plt.ylabel('Suma de los errores cuadráticos')\n",
        "plt.plot(nc,score)"
      ],
      "metadata": {
        "colab": {
          "base_uri": "https://localhost:8080/",
          "height": 572
        },
        "id": "18_6MJJcosrW",
        "outputId": "6d0af1f5-9f15-48aa-d12a-c673564424ef"
      },
      "execution_count": 93,
      "outputs": [
        {
          "output_type": "execute_result",
          "data": {
            "text/plain": [
              "[<matplotlib.lines.Line2D at 0x7f0bfdc7d6d0>]"
            ]
          },
          "metadata": {},
          "execution_count": 93
        },
        {
          "output_type": "display_data",
          "data": {
            "text/plain": [
              "<Figure size 1152x648 with 1 Axes>"
            ],
            "image/png": "[encoded data removed]"
          },
          "metadata": {}
        }
      ]
    },
    {
      "cell_type": "markdown",
      "source": [
        "#Aplicar el algoritmo de k-mean"
      ],
      "metadata": {
        "id": "qXHuTw58o4qv"
      }
    },
    {
      "cell_type": "code",
      "source": [
        "#%% Aplicación de k-means con k = 5.\n",
        "kmeans = KMeans(n_clusters=5).fit(df_escalado)\n",
        "centroids = kmeans.cluster_centers_\n",
        "print(centroids)   #coordenadas de los centroides"
      ],
      "metadata": {
        "colab": {
          "base_uri": "https://localhost:8080/"
        },
        "id": "ufSVgSx_o7Jd",
        "outputId": "275eecd2-2d36-4a0f-a189-50d20042dd76"
      },
      "execution_count": 94,
      "outputs": [
        {
          "output_type": "stream",
          "name": "stdout",
          "text": [
            "[[0.88547245 0.91083621 0.83156351 0.86298037 0.86298037 0.52217488]\n",
            " [0.40225155 0.31415946 0.36920911 0.32878907 0.32878907 0.30473392]\n",
            " [0.61835886 0.57936494 0.5720677  0.5652886  0.5652886  0.35454845]\n",
            " [0.24425022 0.12272296 0.19268859 0.13543585 0.13543585 0.34019661]\n",
            " [0.72647003 0.70285172 0.70637929 0.69729651 0.69729651 0.21107437]]\n"
          ]
        }
      ]
    },
    {
      "cell_type": "markdown",
      "source": [
        "#Etiquetado de datos."
      ],
      "metadata": {
        "id": "yrYEkdyUo-AD"
      }
    },
    {
      "cell_type": "code",
      "source": [
        "#%% Etiquetamos nuestro dataframe.\n",
        "labels = kmeans.predict(df_escalado)   #generamos las etiquetas de cada clouster\n",
        "df['label'] = labels                   #añadimos la columna “label” a nuestro dataframe original\n",
        "\n",
        "df.insert(0, 'Date', dates)           #%% Añadimos la columna de fecha"
      ],
      "metadata": {
        "id": "UZCVpafso_Xf"
      },
      "execution_count": 95,
      "outputs": []
    },
    {
      "cell_type": "code",
      "source": [
        "df.head(10)"
      ],
      "metadata": {
        "colab": {
          "base_uri": "https://localhost:8080/",
          "height": 363
        },
        "id": "STD2yltupCbQ",
        "outputId": "7663d01d-168b-4686-efa2-e9eaa2d6c0ec"
      },
      "execution_count": 96,
      "outputs": [
        {
          "output_type": "execute_result",
          "data": {
            "text/plain": [
              "        Date   Abrir    Alto    Bajo  Cierre*  Cierre ajustado**   Volumen  \\\n",
              "0 2022-03-18  874.49  907.85  867.40   905.39             905.39  33507638   \n",
              "1 2022-03-18  874.49  907.85  867.39   905.39             905.39  33408500   \n",
              "2 2022-03-17  830.99  875.00  825.72   871.60             871.60  22194300   \n",
              "3 2022-03-16  809.00  842.00  802.26   840.23             840.23  28009600   \n",
              "4 2022-03-15  775.27  805.57  756.57   801.89             801.89  22280400   \n",
              "5 2022-03-14  780.61  800.70  756.04   766.37             766.37  23717400   \n",
              "6 2022-03-11  840.20  843.80  793.77   795.35             795.35  22272800   \n",
              "7 2022-03-10  851.45  854.45  810.36   838.30             838.30  19549500   \n",
              "8 2022-03-09  839.48  860.56  832.01   858.97             858.97  19728000   \n",
              "9 2022-03-08  795.53  849.99  782.17   824.40             824.40  26799700   \n",
              "\n",
              "   label  \n",
              "0      1  \n",
              "1      1  \n",
              "2      3  \n",
              "3      3  \n",
              "4      3  \n",
              "5      3  \n",
              "6      3  \n",
              "7      3  \n",
              "8      3  \n",
              "9      3  "
            ],
            "text/html": [
              "\n",
              "  <div id=\"df-e4ab9398-31ac-426f-8c44-965ef08ef402\">\n",
              "    <div class=\"colab-df-container\">\n",
              "      <div>\n",
              "<style scoped>\n",
              "    .dataframe tbody tr th:only-of-type {\n",
              "        vertical-align: middle;\n",
              "    }\n",
              "\n",
              "    .dataframe tbody tr th {\n",
              "        vertical-align: top;\n",
              "    }\n",
              "\n",
              "    .dataframe thead th {\n",
              "        text-align: right;\n",
              "    }\n",
              "</style>\n",
              "<table border=\"1\" class=\"dataframe\">\n",
              "  <thead>\n",
              "    <tr style=\"text-align: right;\">\n",
              "      <th></th>\n",
              "      <th>Date</th>\n",
              "      <th>Abrir</th>\n",
              "      <th>Alto</th>\n",
              "      <th>Bajo</th>\n",
              "      <th>Cierre*</th>\n",
              "      <th>Cierre ajustado**</th>\n",
              "      <th>Volumen</th>\n",
              "      <th>label</th>\n",
              "    </tr>\n",
              "  </thead>\n",
              "  <tbody>\n",
              "    <tr>\n",
              "      <th>0</th>\n",
              "      <td>2022-03-18</td>\n",
              "      <td>874.49</td>\n",
              "      <td>907.85</td>\n",
              "      <td>867.40</td>\n",
              "      <td>905.39</td>\n",
              "      <td>905.39</td>\n",
              "      <td>33507638</td>\n",
              "      <td>1</td>\n",
              "    </tr>\n",
              "    <tr>\n",
              "      <th>1</th>\n",
              "      <td>2022-03-18</td>\n",
              "      <td>874.49</td>\n",
              "      <td>907.85</td>\n",
              "      <td>867.39</td>\n",
              "      <td>905.39</td>\n",
              "      <td>905.39</td>\n",
              "      <td>33408500</td>\n",
              "      <td>1</td>\n",
              "    </tr>\n",
              "    <tr>\n",
              "      <th>2</th>\n",
              "      <td>2022-03-17</td>\n",
              "      <td>830.99</td>\n",
              "      <td>875.00</td>\n",
              "      <td>825.72</td>\n",
              "      <td>871.60</td>\n",
              "      <td>871.60</td>\n",
              "      <td>22194300</td>\n",
              "      <td>3</td>\n",
              "    </tr>\n",
              "    <tr>\n",
              "      <th>3</th>\n",
              "      <td>2022-03-16</td>\n",
              "      <td>809.00</td>\n",
              "      <td>842.00</td>\n",
              "      <td>802.26</td>\n",
              "      <td>840.23</td>\n",
              "      <td>840.23</td>\n",
              "      <td>28009600</td>\n",
              "      <td>3</td>\n",
              "    </tr>\n",
              "    <tr>\n",
              "      <th>4</th>\n",
              "      <td>2022-03-15</td>\n",
              "      <td>775.27</td>\n",
              "      <td>805.57</td>\n",
              "      <td>756.57</td>\n",
              "      <td>801.89</td>\n",
              "      <td>801.89</td>\n",
              "      <td>22280400</td>\n",
              "      <td>3</td>\n",
              "    </tr>\n",
              "    <tr>\n",
              "      <th>5</th>\n",
              "      <td>2022-03-14</td>\n",
              "      <td>780.61</td>\n",
              "      <td>800.70</td>\n",
              "      <td>756.04</td>\n",
              "      <td>766.37</td>\n",
              "      <td>766.37</td>\n",
              "      <td>23717400</td>\n",
              "      <td>3</td>\n",
              "    </tr>\n",
              "    <tr>\n",
              "      <th>6</th>\n",
              "      <td>2022-03-11</td>\n",
              "      <td>840.20</td>\n",
              "      <td>843.80</td>\n",
              "      <td>793.77</td>\n",
              "      <td>795.35</td>\n",
              "      <td>795.35</td>\n",
              "      <td>22272800</td>\n",
              "      <td>3</td>\n",
              "    </tr>\n",
              "    <tr>\n",
              "      <th>7</th>\n",
              "      <td>2022-03-10</td>\n",
              "      <td>851.45</td>\n",
              "      <td>854.45</td>\n",
              "      <td>810.36</td>\n",
              "      <td>838.30</td>\n",
              "      <td>838.30</td>\n",
              "      <td>19549500</td>\n",
              "      <td>3</td>\n",
              "    </tr>\n",
              "    <tr>\n",
              "      <th>8</th>\n",
              "      <td>2022-03-09</td>\n",
              "      <td>839.48</td>\n",
              "      <td>860.56</td>\n",
              "      <td>832.01</td>\n",
              "      <td>858.97</td>\n",
              "      <td>858.97</td>\n",
              "      <td>19728000</td>\n",
              "      <td>3</td>\n",
              "    </tr>\n",
              "    <tr>\n",
              "      <th>9</th>\n",
              "      <td>2022-03-08</td>\n",
              "      <td>795.53</td>\n",
              "      <td>849.99</td>\n",
              "      <td>782.17</td>\n",
              "      <td>824.40</td>\n",
              "      <td>824.40</td>\n",
              "      <td>26799700</td>\n",
              "      <td>3</td>\n",
              "    </tr>\n",
              "  </tbody>\n",
              "</table>\n",
              "</div>\n",
              "      <button class=\"colab-df-convert\" onclick=\"convertToInteractive('df-e4ab9398-31ac-426f-8c44-965ef08ef402')\"\n",
              "              title=\"Convert this dataframe to an interactive table.\"\n",
              "              style=\"display:none;\">\n",
              "        \n",
              "  <svg xmlns=\"http://www.w3.org/2000/svg\" height=\"24px\"viewBox=\"0 0 24 24\"\n",
              "       width=\"24px\">\n",
              "    <path d=\"M0 0h24v24H0V0z\" fill=\"none\"/>\n",
              "    <path d=\"M18.56 5.44l.94 2.06.94-2.06 2.06-.94-2.06-.94-.94-2.06-.94 2.06-2.06.94zm-11 1L8.5 8.5l.94-2.06 2.06-.94-2.06-.94L8.5 2.5l-.94 2.06-2.06.94zm10 10l.94 2.06.94-2.06 2.06-.94-2.06-.94-.94-2.06-.94 2.06-2.06.94z\"/><path d=\"M17.41 7.96l-1.37-1.37c-.4-.4-.92-.59-1.43-.59-.52 0-1.04.2-1.43.59L10.3 9.45l-7.72 7.72c-.78.78-.78 2.05 0 2.83L4 21.41c.39.39.9.59 1.41.59.51 0 1.02-.2 1.41-.59l7.78-7.78 2.81-2.81c.8-.78.8-2.07 0-2.86zM5.41 20L4 18.59l7.72-7.72 1.47 1.35L5.41 20z\"/>\n",
              "  </svg>\n",
              "      </button>\n",
              "      \n",
              "  <style>\n",
              "    .colab-df-container {\n",
              "      display:flex;\n",
              "      flex-wrap:wrap;\n",
              "      gap: 12px;\n",
              "    }\n",
              "\n",
              "    .colab-df-convert {\n",
              "      background-color: #E8F0FE;\n",
              "      border: none;\n",
              "      border-radius: 50%;\n",
              "      cursor: pointer;\n",
              "      display: none;\n",
              "      fill: #1967D2;\n",
              "      height: 32px;\n",
              "      padding: 0 0 0 0;\n",
              "      width: 32px;\n",
              "    }\n",
              "\n",
              "    .colab-df-convert:hover {\n",
              "      background-color: #E2EBFA;\n",
              "      box-shadow: 0px 1px 2px rgba(60, 64, 67, 0.3), 0px 1px 3px 1px rgba(60, 64, 67, 0.15);\n",
              "      fill: #174EA6;\n",
              "    }\n",
              "\n",
              "    [theme=dark] .colab-df-convert {\n",
              "      background-color: #3B4455;\n",
              "      fill: #D2E3FC;\n",
              "    }\n",
              "\n",
              "    [theme=dark] .colab-df-convert:hover {\n",
              "      background-color: #434B5C;\n",
              "      box-shadow: 0px 1px 3px 1px rgba(0, 0, 0, 0.15);\n",
              "      filter: drop-shadow(0px 1px 2px rgba(0, 0, 0, 0.3));\n",
              "      fill: #FFFFFF;\n",
              "    }\n",
              "  </style>\n",
              "\n",
              "      <script>\n",
              "        const buttonEl =\n",
              "          document.querySelector('#df-e4ab9398-31ac-426f-8c44-965ef08ef402 button.colab-df-convert');\n",
              "        buttonEl.style.display =\n",
              "          google.colab.kernel.accessAllowed ? 'block' : 'none';\n",
              "\n",
              "        async function convertToInteractive(key) {\n",
              "          const element = document.querySelector('#df-e4ab9398-31ac-426f-8c44-965ef08ef402');\n",
              "          const dataTable =\n",
              "            await google.colab.kernel.invokeFunction('convertToInteractive',\n",
              "                                                     [key], {});\n",
              "          if (!dataTable) return;\n",
              "\n",
              "          const docLinkHtml = 'Like what you see? Visit the ' +\n",
              "            '<a target=\"_blank\" href=https://colab.research.google.com/notebooks/data_table.ipynb>data table notebook</a>'\n",
              "            + ' to learn more about interactive tables.';\n",
              "          element.innerHTML = '';\n",
              "          dataTable['output_type'] = 'display_data';\n",
              "          await google.colab.output.renderOutput(dataTable, element);\n",
              "          const docLink = document.createElement('div');\n",
              "          docLink.innerHTML = docLinkHtml;\n",
              "          element.appendChild(docLink);\n",
              "        }\n",
              "      </script>\n",
              "    </div>\n",
              "  </div>\n",
              "  "
            ]
          },
          "metadata": {},
          "execution_count": 96
        }
      ]
    },
    {
      "cell_type": "markdown",
      "source": [
        "#Representación gráfica de los clústeres k-means"
      ],
      "metadata": {
        "id": "mK1IUnEXpHRs"
      }
    },
    {
      "cell_type": "code",
      "source": [
        "#%% Plot k-means clustering.\n",
        "colores=['red','green','blue','yellow','fuchsia']\n",
        "asignar=[]\n",
        "for row in labels:\n",
        "     asignar.append(colores[row])\n",
        "plt.scatter(x, y, c=asignar, s=4)\n",
        "plt.scatter(centroids[:, 0], centroids[:, 1], marker='*', c='black', s=20) # Marco centroides.\n",
        "plt.xlabel('Precio de cierre')\n",
        "plt.ylabel('Volumen')\n",
        "plt.title('Tesla stocks k-means clustering')\n",
        "plt.show()"
      ],
      "metadata": {
        "colab": {
          "base_uri": "https://localhost:8080/",
          "height": 571
        },
        "id": "lLBAwJPFpIb5",
        "outputId": "5a601418-30d8-4c7c-e1e9-504b11753443"
      },
      "execution_count": 97,
      "outputs": [
        {
          "output_type": "display_data",
          "data": {
            "text/plain": [
              "<Figure size 1152x648 with 1 Axes>"
            ],
            "image/png": "[encoded data removed]"
          },
          "metadata": {}
        }
      ]
    }
  ]
}